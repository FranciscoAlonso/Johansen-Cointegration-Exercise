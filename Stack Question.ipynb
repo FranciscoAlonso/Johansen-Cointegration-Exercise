{
 "cells": [
  {
   "cell_type": "markdown",
   "metadata": {},
   "source": [
    "I'm trying to reproduce the Example 3.2 from \"Likelihood-based Inference in Cointegrated Vector Autoregressive Models\" by Søren Johansen. The example proposes the following processes:\n",
    "\n",
    "$X_{1t} = \\sum_{i=1}^t \\sum_{j=1}^i \\epsilon_{1j} + \\sum_{i=1}^t \\epsilon_{2i}$  \n",
    "\n",
    "$X_{2t} = a\\sum_{i=1}^t \\sum_{j=1}^i \\epsilon_{1j} + b\\sum_{i=1}^t \\epsilon_{2i} + \\epsilon_{3t}$  \n",
    "\n",
    "$X_{3t} = c\\sum_{i=1}^t \\epsilon_{2i} + \\epsilon_{4t}$\n",
    "\n",
    "Where $X_{1t}$ and $X_{2t}$ are $I(2)$ processes and $X_{3t}$ is an $I(1)$ concluding that $(a, -1, 0)$ is a cointegrating vector that brings the order of the process from 2 to 1 and $[ac, -c, -(a-b)]$ brings the order from 2 to 0.\n",
    "\n",
    "I haven't been able to get similar cointegrating vectors from the Johansen test in Python, also, these processes are supposed to be non-stationary but the ADF Test suggests the rejection of the null hypothesis. As you can see I have some confusion in the matter; below you can find links to the code:\n",
    "\n",
    "https://nbviewer.jupyter.org/github/FranciscoAlonso/Johansen-Cointegration-Exercise/blob/master/coint_sample-Example_3_2.ipynb?flush_cache=true\n",
    "\n",
    "Any light into this will help, thanks! "
   ]
  },
  {
   "cell_type": "code",
   "execution_count": null,
   "metadata": {},
   "outputs": [],
   "source": []
  },
  {
   "cell_type": "code",
   "execution_count": null,
   "metadata": {},
   "outputs": [],
   "source": []
  }
 ],
 "metadata": {
  "kernelspec": {
   "display_name": "Python 3",
   "language": "python",
   "name": "python3"
  },
  "language_info": {
   "codemirror_mode": {
    "name": "ipython",
    "version": 3
   },
   "file_extension": ".py",
   "mimetype": "text/x-python",
   "name": "python",
   "nbconvert_exporter": "python",
   "pygments_lexer": "ipython3",
   "version": "3.7.3"
  }
 },
 "nbformat": 4,
 "nbformat_minor": 2
}
